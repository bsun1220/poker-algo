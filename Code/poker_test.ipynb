{
 "cells": [
  {
   "cell_type": "code",
   "execution_count": 1,
   "id": "534e1573-cb56-4097-87e3-f6e17b50adb9",
   "metadata": {},
   "outputs": [],
   "source": [
    "import numpy as np\n",
    "import random\n",
    "from poker_tools import range_simulate, hand_simulate, return_hand_winner\n",
    "import copy"
   ]
  },
  {
   "cell_type": "code",
   "execution_count": 2,
   "id": "f3d69b72-ed9f-4768-983c-44fd7f2e3262",
   "metadata": {},
   "outputs": [],
   "source": [
    "##initialize\n",
    "cards = set()\n",
    "suits = {\"Spade\", \"Diamond\", \"Heart\", \"Club\"}\n",
    "numbers = {\"2\":0, \"3\":1, \"4\":2, \"5\":3, \"6\":4, \"7\":5, \"8\":6, \"9\":7, \"10\":8, \"J\":9, \"Q\":10, \"K\":11,\"A\":12}\n",
    "\n",
    "for number in numbers:\n",
    "    for suit in suits:\n",
    "        cards.add((suit, number))"
   ]
  },
  {
   "cell_type": "code",
   "execution_count": 3,
   "id": "cf2a87cc-98aa-447e-b7c2-98c5fcff9171",
   "metadata": {},
   "outputs": [
    {
     "name": "stdout",
     "output_type": "stream",
     "text": [
      "0.57857\n",
      "{'Straight Flush': 0.0, '4 of a Kind': 0.0, 'Full House': 0.04, 'Flush': 0.04, 'Straight': 0.11, '3 of a Kind': 0.07, 'Two Pair': 0.31, 'Pair': 0.37, 'High Card': 0.06}\n"
     ]
    }
   ],
   "source": [
    "set_direct = {\n",
    "    \"S\":{(\"A\", \"K\"), (\"A\", \"Q\")},\n",
    "    \"P\":{\"2\", \"5\", \"6\", \"A\"},\n",
    "    \"O\":{(\"A\", \"Q\"), (\"A\", \"10\")}\n",
    "}\n",
    "\n",
    "hero = {(\"Club\", \"J\"), (\"Diamond\", \"Q\")}\n",
    "villains = {\"Villain1\":{}}\n",
    "flop = set()\n",
    "equity, win_dict = range_simulate(hero, villains, flop, cards, 100000)\n",
    "print(equity)\n",
    "print(win_dict)"
   ]
  },
  {
   "cell_type": "code",
   "execution_count": 4,
   "id": "11b4e459-4829-4a46-abca-b862737ac1c6",
   "metadata": {},
   "outputs": [
    {
     "name": "stdout",
     "output_type": "stream",
     "text": [
      "0.54121\n",
      "{'Straight Flush': 0.0, '4 of a Kind': 0.01, 'Full House': 0.1, 'Flush': 0.08, 'Straight': 0.1, '3 of a Kind': 0.12, 'Two Pair': 0.34, 'Pair': 0.24, 'High Card': 0.0}\n"
     ]
    }
   ],
   "source": [
    "hero = {(\"Heart\", \"J\"), (\"Heart\", \"10\")}\n",
    "villains = {\"Villain\":{(\"Club\", \"2\"),(\"Diamond\", \"2\")}}\n",
    "flop = set()\n",
    "\n",
    "equity, win_dict = hand_simulate(hero, villains, flop, cards, 100000)\n",
    "print(equity)\n",
    "print(win_dict)"
   ]
  },
  {
   "cell_type": "code",
   "execution_count": 2,
   "id": "4482be22-f674-4e8f-98fc-52b508666842",
   "metadata": {},
   "outputs": [],
   "source": [
    "from poker_simulator import PokerGame\n",
    "from sample_bots import FishPlayer, RaisePlayer, CheckOrFoldPlayer\n",
    "from poker_bot import PokerBotTemplate"
   ]
  },
  {
   "cell_type": "code",
   "execution_count": 6,
   "id": "b96df9dd-1f02-4d00-bf11-e0ebde17096f",
   "metadata": {},
   "outputs": [],
   "source": [
    "Game = PokerGame(max_players = 6)\n",
    "Raise1 = RaisePlayer(\"Raise1\")\n",
    "CheckFold1 = CheckOrFoldPlayer(\"Fold1\")\n",
    "Raise2 = RaisePlayer(\"Raise2\")\n",
    "Fish1 = FishPlayer(\"Derrick\")\n",
    "Fish2 = FishPlayer(\"John\")\n",
    "Fish3 = FishPlayer(\"Jeff\")\n",
    "Game.add_player(CheckFold1)\n",
    "Game.add_player(Fish1)\n",
    "Game.add_player(Fish2)\n",
    "Game.add_player(Fish3)\n",
    "Game.add_player(Raise1)\n",
    "Game.add_player(Raise2)\n",
    "Game.initialize_game()\n",
    "for i in range(1000):\n",
    "    Game.play_round()"
   ]
  },
  {
   "cell_type": "code",
   "execution_count": null,
   "id": "d28605b2-04ca-43a8-ae99-b28b18862db4",
   "metadata": {},
   "outputs": [],
   "source": []
  }
 ],
 "metadata": {
  "kernelspec": {
   "display_name": "Python 3 (ipykernel)",
   "language": "python",
   "name": "python3"
  },
  "language_info": {
   "codemirror_mode": {
    "name": "ipython",
    "version": 3
   },
   "file_extension": ".py",
   "mimetype": "text/x-python",
   "name": "python",
   "nbconvert_exporter": "python",
   "pygments_lexer": "ipython3",
   "version": "3.9.7"
  }
 },
 "nbformat": 4,
 "nbformat_minor": 5
}
