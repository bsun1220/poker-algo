{
 "cells": [
  {
   "cell_type": "code",
   "execution_count": 13,
   "id": "534e1573-cb56-4097-87e3-f6e17b50adb9",
   "metadata": {},
   "outputs": [],
   "source": [
    "import numpy as np\n",
    "import random"
   ]
  },
  {
   "cell_type": "code",
   "execution_count": 8,
   "id": "ca0b0a9f-9d19-446e-a61c-535faf064653",
   "metadata": {},
   "outputs": [],
   "source": [
    "suits = {\"Spade\", \"Diamond\", \"Heart\", \"Club\"}\n",
    "numbers = {\"2\":1, \"3\":2, \"4\":3, \"5\":4, \"6\":5, \"7\":6, \"8\":7, \"9\":8, \"10\":9, \"J\":10, \"Q\":11, \"K\":12,\"A\":13}"
   ]
  },
  {
   "cell_type": "code",
   "execution_count": 70,
   "id": "f3d69b72-ed9f-4768-983c-44fd7f2e3262",
   "metadata": {},
   "outputs": [],
   "source": [
    "##initialize\n",
    "lst = []\n",
    "for number in numbers:\n",
    "    for suit in suits:\n",
    "        lst.append((suit, number))"
   ]
  },
  {
   "cell_type": "code",
   "execution_count": 71,
   "id": "970833ab-cc64-4e6f-b694-71d2efbea31a",
   "metadata": {},
   "outputs": [],
   "source": [
    "def draw(ret_list = [], num_iter = 0, deck = lst):\n",
    "    if num_iter <= 0 or len(deck) == 0:\n",
    "        return ret_list\n",
    "    \n",
    "    random_index = random.randint(0, len(deck))\n",
    "    value = deck.pop(random_index)\n",
    "    ret_list.append(value)\n",
    "    return draw(ret_list, num_iter - 1, deck)"
   ]
  },
  {
   "cell_type": "code",
   "execution_count": null,
   "id": "cca336d8-f75d-4aa4-8929-3962cf1ff346",
   "metadata": {},
   "outputs": [],
   "source": [
    "def draw_"
   ]
  },
  {
   "cell_type": "code",
   "execution_count": 82,
   "id": "781173d9-300c-46ca-abd6-b57774098d71",
   "metadata": {},
   "outputs": [
    {
     "name": "stdout",
     "output_type": "stream",
     "text": [
      "16\n",
      "27\n"
     ]
    },
    {
     "data": {
      "text/plain": [
       "[('Club', '8'), ('Club', 'K')]"
      ]
     },
     "execution_count": 82,
     "metadata": {},
     "output_type": "execute_result"
    }
   ],
   "source": [
    "draw([], 2, lst)"
   ]
  },
  {
   "cell_type": "code",
   "execution_count": null,
   "id": "cf73ed3b-8f1a-4f96-b1ba-73c4c0032b68",
   "metadata": {},
   "outputs": [],
   "source": []
  }
 ],
 "metadata": {
  "kernelspec": {
   "display_name": "Python 3 (ipykernel)",
   "language": "python",
   "name": "python3"
  },
  "language_info": {
   "codemirror_mode": {
    "name": "ipython",
    "version": 3
   },
   "file_extension": ".py",
   "mimetype": "text/x-python",
   "name": "python",
   "nbconvert_exporter": "python",
   "pygments_lexer": "ipython3",
   "version": "3.9.7"
  }
 },
 "nbformat": 4,
 "nbformat_minor": 5
}
