{
 "cells": [
  {
   "cell_type": "code",
   "execution_count": 13,
   "id": "534e1573-cb56-4097-87e3-f6e17b50adb9",
   "metadata": {},
   "outputs": [],
   "source": [
    "import numpy as np\n",
    "import random"
   ]
  },
  {
   "cell_type": "code",
   "execution_count": 154,
   "id": "ca0b0a9f-9d19-446e-a61c-535faf064653",
   "metadata": {},
   "outputs": [],
   "source": [
    "suits = {\"Spade\", \"Diamond\", \"Heart\", \"Club\"}\n",
    "numbers = {\"2\":1, \"3\":2, \"4\":3, \"5\":4, \"6\":5, \"7\":6, \"8\":7, \"9\":8, \"10\":9, \"J\":10, \"Q\":11, \"K\":12,\"A\":13}\n",
    "numbers_ord = [\"A\", \"2\", \"3\", \"4\", \"5\", \"6\", \"7\", \"8\", \"9\", \"10\", \"J\", \"Q\", \"K\", \"A\"]"
   ]
  },
  {
   "cell_type": "code",
   "execution_count": 155,
   "id": "f3d69b72-ed9f-4768-983c-44fd7f2e3262",
   "metadata": {},
   "outputs": [],
   "source": [
    "##initialize\n",
    "lst = []\n",
    "for number in numbers:\n",
    "    for suit in suits:\n",
    "        lst.append((suit, number))"
   ]
  },
  {
   "cell_type": "code",
   "execution_count": 129,
   "id": "970833ab-cc64-4e6f-b694-71d2efbea31a",
   "metadata": {},
   "outputs": [],
   "source": [
    "def draw(ret_list = [], num_iter = 0, deck = lst):\n",
    "    if num_iter <= 0 or len(deck) == 0:\n",
    "        return ret_list\n",
    "    \n",
    "    random_index = random.randint(0, len(deck))\n",
    "    value = deck.pop(random_index)\n",
    "    ret_list.append(value)\n",
    "    return draw(ret_list, num_iter - 1, deck)"
   ]
  },
  {
   "cell_type": "code",
   "execution_count": 130,
   "id": "cca336d8-f75d-4aa4-8929-3962cf1ff346",
   "metadata": {},
   "outputs": [],
   "source": [
    "def preflop(num_players):\n",
    "    assert type(num_players) == int\n",
    "    assert num_players >= 0\n",
    "    assert num_players <= 10\n",
    "    \n",
    "    hands = []\n",
    "    for player in range(num_players):\n",
    "        hands.append(draw([], 2, lst))\n",
    "    return hands"
   ]
  },
  {
   "cell_type": "code",
   "execution_count": 177,
   "id": "42b6f053-c74e-4364-be84-fe7da92027f8",
   "metadata": {},
   "outputs": [],
   "source": [
    "def find_max(winning_hand_combo, pot):\n",
    "    max_value = max(winning_hand_combo.values())\n",
    "    for hand in winning_hand_combo:\n",
    "        if winning_hand_combo[hand] != max_value:\n",
    "            winning_hand_combo.pop(hand)\n",
    "    for hand in winning_hand_combo:\n",
    "        winning_hand_combo[hand] = pot/len(winning_hand_combo)\n",
    "    return winning_hand_combo\n",
    "\n",
    "def win_determination(flop = [], player_hands = {}, pot = 0):\n",
    "    assert(len(flop) == 5)\n",
    "    assert(len(player_hands) > 1)\n",
    "    \n",
    "    #check straight flush\n",
    "    winning_hand_combo = {}\n",
    "    for player in player_hands:\n",
    "        hand = flop.copy()\n",
    "        hand.update(player_hands[player])\n",
    "        \n",
    "        for value in suits:\n",
    "            for i in range(9, -1, -1):\n",
    "                found_suit = False\n",
    "                sum_total = 0\n",
    "                for number in numbers_ord[i:i+5]:\n",
    "                    if (value, number) in hand:\n",
    "                        sum_total += 1\n",
    "                    \n",
    "                if sum_total == 5 and player not in winning_hand_combo:\n",
    "                    winning_hand_combo[player] = i\n",
    "                    break\n",
    "    \n",
    "    if len(winning_hand_combo) != 0:\n",
    "        return find_max(winning_hand_combo, pot)\n",
    "    \n",
    "    #check four-of-a-kind"
   ]
  },
  {
   "cell_type": "code",
   "execution_count": 178,
   "id": "66d32881-4c9a-46dd-952d-b3f75886737b",
   "metadata": {},
   "outputs": [],
   "source": [
    "flop = {(\"Spade\", \"K\"), (\"Spade\", \"A\"), (\"Spade\", \"Q\"), (\"Spade\", \"10\"), (\"Spade\", \"J\")}\n",
    "player_hands = {\"1\":{(\"Spade\", \"2\"), (\"Spade\", \"9\")}, \"2\":{(\"Spade\", \"7\"), (\"Spade\", \"5\")}}"
   ]
  },
  {
   "cell_type": "code",
   "execution_count": 179,
   "id": "252a379c-eccb-42cf-988b-0f0af3fe42ff",
   "metadata": {},
   "outputs": [
    {
     "data": {
      "text/plain": [
       "{'1': 50.0, '2': 50.0}"
      ]
     },
     "execution_count": 179,
     "metadata": {},
     "output_type": "execute_result"
    }
   ],
   "source": [
    "win_determination(flop, player_hands, 100)"
   ]
  },
  {
   "cell_type": "code",
   "execution_count": 162,
   "id": "29901e77-bde2-4de2-b7f2-bf67bd0fd08c",
   "metadata": {},
   "outputs": [
    {
     "data": {
      "text/plain": [
       "['6', '7', '8', '9', '10']"
      ]
     },
     "execution_count": 162,
     "metadata": {},
     "output_type": "execute_result"
    }
   ],
   "source": [
    "numbers_ord[0 + 5:5 + 5]"
   ]
  },
  {
   "cell_type": "code",
   "execution_count": 168,
   "id": "7e7a1b2d-d198-4223-8235-95454f0a84be",
   "metadata": {},
   "outputs": [],
   "source": [
    "dit = {\"1\":2, \"2\":3}"
   ]
  },
  {
   "cell_type": "code",
   "execution_count": 172,
   "id": "59afcd77-d85a-44d5-be71-e22c8b9b145e",
   "metadata": {},
   "outputs": [
    {
     "data": {
      "text/plain": [
       "3"
      ]
     },
     "execution_count": 172,
     "metadata": {},
     "output_type": "execute_result"
    }
   ],
   "source": [
    "max(dit.values())"
   ]
  },
  {
   "cell_type": "code",
   "execution_count": null,
   "id": "bbcd4010-d5cd-4094-8210-7c552172a265",
   "metadata": {},
   "outputs": [],
   "source": []
  }
 ],
 "metadata": {
  "kernelspec": {
   "display_name": "Python 3 (ipykernel)",
   "language": "python",
   "name": "python3"
  },
  "language_info": {
   "codemirror_mode": {
    "name": "ipython",
    "version": 3
   },
   "file_extension": ".py",
   "mimetype": "text/x-python",
   "name": "python",
   "nbconvert_exporter": "python",
   "pygments_lexer": "ipython3",
   "version": "3.9.7"
  }
 },
 "nbformat": 4,
 "nbformat_minor": 5
}
