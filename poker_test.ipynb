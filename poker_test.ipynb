{
 "cells": [
  {
   "cell_type": "code",
   "execution_count": 2,
   "id": "534e1573-cb56-4097-87e3-f6e17b50adb9",
   "metadata": {},
   "outputs": [],
   "source": [
    "import numpy as np\n",
    "import random\n",
    "from poker_tools import range_simulate, hand_simulate"
   ]
  },
  {
   "cell_type": "code",
   "execution_count": 2,
   "id": "f3d69b72-ed9f-4768-983c-44fd7f2e3262",
   "metadata": {},
   "outputs": [],
   "source": [
    "##initialize\n",
    "cards = set()\n",
    "suits = {\"Spade\", \"Diamond\", \"Heart\", \"Club\"}\n",
    "numbers = {\"2\":0, \"3\":1, \"4\":2, \"5\":3, \"6\":4, \"7\":5, \"8\":6, \"9\":7, \"10\":8, \"J\":9, \"Q\":10, \"K\":11,\"A\":12}\n",
    "\n",
    "for number in numbers:\n",
    "    for suit in suits:\n",
    "        cards.add((suit, number))"
   ]
  },
  {
   "cell_type": "code",
   "execution_count": 7,
   "id": "cf2a87cc-98aa-447e-b7c2-98c5fcff9171",
   "metadata": {},
   "outputs": [
    {
     "name": "stdout",
     "output_type": "stream",
     "text": [
      "0.57752\n",
      "{'Straight Flush': 0.0, '4 of a Kind': 0.0, 'Full House': 0.04, 'Flush': 0.04, 'Straight': 0.1, '3 of a Kind': 0.07, 'Two Pair': 0.31, 'Pair': 0.37, 'High Card': 0.06}\n"
     ]
    }
   ],
   "source": [
    "set_direct = {\n",
    "    \"S\":{(\"A\", \"K\"), (\"A\", \"Q\")},\n",
    "    \"P\":{\"2\", \"5\", \"6\", \"A\"},\n",
    "    \"O\":{(\"A\", \"Q\"), (\"A\", \"10\")}\n",
    "}\n",
    "\n",
    "hero = {(\"Club\", \"J\"), (\"Diamond\", \"Q\")}\n",
    "villains = {\"Villain1\":{}}\n",
    "flop = set()\n",
    "equity, win_dict = range_simulate(hero, villains, flop, cards, 100000)\n",
    "print(equity)\n",
    "print(win_dict)"
   ]
  },
  {
   "cell_type": "code",
   "execution_count": 15,
   "id": "11b4e459-4829-4a46-abca-b862737ac1c6",
   "metadata": {},
   "outputs": [
    {
     "name": "stdout",
     "output_type": "stream",
     "text": [
      "0.54036\n",
      "{'Straight Flush': 0.0, '4 of a Kind': 0.01, 'Full House': 0.1, 'Flush': 0.08, 'Straight': 0.1, '3 of a Kind': 0.13, 'Two Pair': 0.34, 'Pair': 0.24, 'High Card': 0.0}\n"
     ]
    }
   ],
   "source": [
    "hero = {(\"Heart\", \"J\"), (\"Heart\", \"10\")}\n",
    "villains = {\"Villain\":{(\"Club\", \"2\"),(\"Diamond\", \"2\")}}\n",
    "flop = set()\n",
    "\n",
    "equity, win_dict = hand_simulate(hero, villains, flop, cards, 100000)\n",
    "print(equity)\n",
    "print(win_dict)"
   ]
  },
  {
   "cell_type": "code",
   "execution_count": null,
   "id": "02d135a3-6e6e-4ca0-9fa3-c0c8de00bd84",
   "metadata": {},
   "outputs": [],
   "source": [
    "'''\n",
    "Organization: \n",
    "1) Add players (Poker Bot Class)\n",
    "2) \n",
    "\n",
    "'''"
   ]
  },
  {
   "cell_type": "code",
   "execution_count": 53,
   "id": "31a53037-2871-4fb2-9c5e-05fe3365b053",
   "metadata": {},
   "outputs": [],
   "source": [
    "class PokerBotTemplate:\n",
    "    def __init__(self, name):\n",
    "        self.name = name\n",
    "        pass\n",
    "    \n",
    "    def pre_flop_strategy(self):\n",
    "        pass\n",
    "    \n",
    "    def turn_strategy(self):\n",
    "        pass\n",
    "    \n",
    "    def river_strategy(self):\n",
    "        pass\n",
    "\n",
    "class FishPlayer(PokerBotTemplate):\n",
    "    def __init__(self, name):\n",
    "        super().__init__(name)\n",
    "    \n",
    "\n",
    "class PokerGame:\n",
    "    def __init__(self, max_players = 10, starting_pot = 1000, blinds = (5, 10)):\n",
    "        \n",
    "        assert(type(max_players) == int and max_players > 0 and max_players <= 10)\n",
    "        assert(type(starting_pot) == int and starting_pot > 0)\n",
    "        assert(len(blinds) == 2 and type(blinds[0]) == int and type(blinds[1]) == int)\n",
    "        assert(blinds[0] > 0 and blinds[1] > 0 and blinds[1] > blinds[0])\n",
    "        \n",
    "        #sb is first, bb is second, third = under the gun\n",
    "        self.player_list = []\n",
    "        self.player_names = {}\n",
    "        \n",
    "        cards = set()\n",
    "        suits = {\"Spade\", \"Diamond\", \"Heart\", \"Club\"}\n",
    "        numbers = {\"2\":0, \"3\":1, \"4\":2, \"5\":3, \"6\":4, \"7\":5, \"8\":6, \"9\":7, \"10\":8, \"J\":9, \"Q\":10, \"K\":11,\"A\":12}\n",
    "\n",
    "        for number in numbers:\n",
    "            for suit in suits:\n",
    "                cards.add((suit, number))\n",
    "        \n",
    "        self.cards = cards\n",
    "        self.max_players = max_players\n",
    "        self.starting_pot = starting_pot\n",
    "        #first is small blind, second is big blind\n",
    "        self.blinds = blinds\n",
    "        \n",
    "        self.has_started = False\n",
    "    \n",
    "    def add_player(self, poker_bot):\n",
    "        if self.has_started:\n",
    "            print(\"Cannot add player, match has started\")\n",
    "            return\n",
    "        \n",
    "        assert(issubclass(poker_bot.__class__, PokerBotTemplate))\n",
    "        assert(poker_bot.name not in self.player_names)\n",
    "        if len(self.player_list) == self.max_players:\n",
    "            print(\"No more players can join\")\n",
    "            return\n",
    "        self.player_list.append(poker_bot)\n",
    "        self.player_names[poker_bot.name] = 0\n",
    "    \n",
    "    def initialize_game(self):\n",
    "        self.has_started = True\n",
    "        for player in self.player_list:\n",
    "            self.player_names[player.name] = (player, self.starting_pot)\n",
    "    \n",
    "    def return_results(self):\n",
    "        if not self.has_started:\n",
    "            print(\"Game has not started yet\")\n",
    "            return\n",
    "        new_result = {}\n",
    "        for player in self.player_names:\n",
    "            new_result[player] = self.player_names[player][1]\n",
    "        return new_result\n",
    "    \n",
    "    def play_round(self):\n",
    "        cards = self.cards.copy()\n",
    "        \n",
    "        #draw hands\n",
    "        hands_ref = {}\n",
    "        hands = random.sample([*cards], 2 * len(self.player_list))\n",
    "        \n",
    "        index = 0\n",
    "        for player in self.player_names:\n",
    "            hands_ref[player] = {hands[index], hands[index+1]}\n",
    "            index += 2\n",
    "        \n",
    "        return hands_ref\n",
    "    \n",
    "    def preflop(self):\n",
    "        pass\n",
    "    \n",
    "    def turn(self):\n",
    "        pass\n",
    "    \n",
    "    def river(self):\n",
    "        pass"
   ]
  },
  {
   "cell_type": "code",
   "execution_count": 59,
   "id": "b96df9dd-1f02-4d00-bf11-e0ebde17096f",
   "metadata": {},
   "outputs": [
    {
     "data": {
      "text/plain": [
       "{'Derrick': {('Club', '6'), ('Diamond', '2')},\n",
       " 'John': {('Club', '10'), ('Club', 'K')}}"
      ]
     },
     "execution_count": 59,
     "metadata": {},
     "output_type": "execute_result"
    }
   ],
   "source": [
    "Game = PokerGame(max_players = 2)\n",
    "Fish1 = FishPlayer(\"Derrick\")\n",
    "Fish2 = FishPlayer(\"John\")\n",
    "Fish3 = FishPlayer(\"Seven\")\n",
    "Game.add_player(Fish1)\n",
    "Game.add_player(Fish2)\n",
    "Game.initialize_game()\n",
    "Game.play_round()"
   ]
  },
  {
   "cell_type": "code",
   "execution_count": null,
   "id": "c8bdbdf0-9f7d-41d3-99df-e17ec3cc3c91",
   "metadata": {},
   "outputs": [],
   "source": []
  }
 ],
 "metadata": {
  "kernelspec": {
   "display_name": "Python 3 (ipykernel)",
   "language": "python",
   "name": "python3"
  },
  "language_info": {
   "codemirror_mode": {
    "name": "ipython",
    "version": 3
   },
   "file_extension": ".py",
   "mimetype": "text/x-python",
   "name": "python",
   "nbconvert_exporter": "python",
   "pygments_lexer": "ipython3",
   "version": "3.9.7"
  }
 },
 "nbformat": 4,
 "nbformat_minor": 5
}
